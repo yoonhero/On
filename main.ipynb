{
 "cells": [
  {
   "cell_type": "code",
   "execution_count": 1,
   "metadata": {},
   "outputs": [],
   "source": [
    "from utils import use_model, load_latest_checkpoint\n",
    "from transformer import transformer\n",
    "from nlp_utils import TextTokenizing"
   ]
  },
  {
   "cell_type": "code",
   "execution_count": 2,
   "metadata": {},
   "outputs": [],
   "source": [
    "checkpoint_dir = \"./training_super_small_3\"\n",
    "\n",
    "latest_checkpoint = load_latest_checkpoint(checkpoint_dir)"
   ]
  },
  {
   "cell_type": "code",
   "execution_count": 3,
   "metadata": {},
   "outputs": [
    {
     "data": {
      "text/plain": [
       "(41077, [41075], [41076])"
      ]
     },
     "execution_count": 3,
     "metadata": {},
     "output_type": "execute_result"
    }
   ],
   "source": [
    "#tokenizer = tfds.deprecated.text.SubwordTextEncoder.load_from_file(\"super_small_vocab\")\n",
    "\n",
    "# VOCAB_SIZE = tokenizer.vocab_size + 2\n",
    "\n",
    "# START_TOKEN, END_TOKEN = [tokenizer.vocab_size], [tokenizer.vocab_size+1]\n",
    "\n",
    "textTokenizing = TextTokenizing()\n",
    "\n",
    "tokenizer = textTokenizing.load_tokenizer(\"super_super_3_small_vocab\")\n",
    "\n",
    "VOCAB_SIZE, START_TOKEN, END_TOKEN = textTokenizing.tokens()\n",
    "\n",
    "VOCAB_SIZE, START_TOKEN, END_TOKEN"
   ]
  },
  {
   "cell_type": "code",
   "execution_count": 4,
   "metadata": {},
   "outputs": [
    {
     "name": "stdout",
     "output_type": "stream",
     "text": [
      "(1, 41077, 256)\n",
      "(1, 41077, 256)\n"
     ]
    },
    {
     "data": {
      "text/plain": [
       "<tensorflow.python.training.tracking.util.CheckpointLoadStatus at 0x2c16753e490>"
      ]
     },
     "execution_count": 4,
     "metadata": {},
     "output_type": "execute_result"
    }
   ],
   "source": [
    "from hyperparameters import NUM_LAYERS, D_MODEL, NUM_HEADS, DFF, DROPOUT\n",
    "\n",
    "model = transformer(\n",
    "    vocab_size=VOCAB_SIZE,\n",
    "    num_layers=NUM_LAYERS,\n",
    "    dff=DFF,\n",
    "    d_model=D_MODEL,\n",
    "    num_heads=NUM_HEADS,\n",
    "    dropout=DROPOUT\n",
    ")\n",
    "\n",
    "model.load_weights(latest_checkpoint)"
   ]
  },
  {
   "cell_type": "code",
   "execution_count": 5,
   "metadata": {},
   "outputs": [],
   "source": [
    "prediction = use_model(model=model, tokenizer=tokenizer, START_TOKEN=START_TOKEN, END_TOKEN=END_TOKEN, MAX_LENGTH=50)"
   ]
  },
  {
   "cell_type": "code",
   "execution_count": 7,
   "metadata": {},
   "outputs": [
    {
     "name": "stdout",
     "output_type": "stream",
     "text": [
      "인공지능이 인간보다 뛰어나다고 생각하니?\n"
     ]
    },
    {
     "data": {
      "text/plain": [
       "'근데 그렇게 뜬 사람도 아닌데 거짓말로 글을 올렸을까  ?'"
      ]
     },
     "execution_count": 7,
     "metadata": {},
     "output_type": "execute_result"
    }
   ],
   "source": [
    "prediction.predict(\"인공지능이 인간보다 뛰어나다고 생각하니?\")"
   ]
  },
  {
   "cell_type": "code",
   "execution_count": 10,
   "metadata": {},
   "outputs": [
    {
     "name": "stdout",
     "output_type": "stream",
     "text": [
      "왜저래? ㅋㅋㅋㅋㅋㅋㅋㅋ\n"
     ]
    },
    {
     "data": {
      "text/plain": [
       "'나는 그럼 우리 다음엔 다같이 볼링장에 가면 되겠다'"
      ]
     },
     "execution_count": 10,
     "metadata": {},
     "output_type": "execute_result"
    }
   ],
   "source": [
    "prediction.predict(\"왜저래? ㅋㅋㅋㅋㅋㅋㅋㅋ\")"
   ]
  },
  {
   "cell_type": "code",
   "execution_count": 12,
   "metadata": {},
   "outputs": [
    {
     "name": "stdout",
     "output_type": "stream",
     "text": [
      "윤승현은 허수인가여\n"
     ]
    },
    {
     "data": {
      "text/plain": [
       "'키키 그거 실제로도 타고 넘는 사람 있지 않아  ?'"
      ]
     },
     "execution_count": 12,
     "metadata": {},
     "output_type": "execute_result"
    }
   ],
   "source": [
    "prediction.predict(\"윤승현은 허수인가여\")"
   ]
  },
  {
   "cell_type": "code",
   "execution_count": 15,
   "metadata": {},
   "outputs": [
    {
     "name": "stdout",
     "output_type": "stream",
     "text": [
      "현우진은 누구지?\n"
     ]
    },
    {
     "data": {
      "text/plain": [
       "'헐 키키 그거 그게 부산 꼭 가봐  ! 내가 핫플 소개시켜줄게  !'"
      ]
     },
     "execution_count": 15,
     "metadata": {},
     "output_type": "execute_result"
    }
   ],
   "source": [
    "prediction.predict(\"현우진은 누구지?\")"
   ]
  },
  {
   "cell_type": "code",
   "execution_count": 16,
   "metadata": {},
   "outputs": [
    {
     "name": "stdout",
     "output_type": "stream",
     "text": [
      "지구 생태계에서 가장 위험한 종은 뭐야?\n"
     ]
    },
    {
     "data": {
      "text/plain": [
       "'키키 난 나이 많은 사람이 가긴 했어 키키'"
      ]
     },
     "execution_count": 16,
     "metadata": {},
     "output_type": "execute_result"
    }
   ],
   "source": [
    "prediction.predict(\"지구 생태계에서 가장 위험한 종은 뭐야?\")"
   ]
  },
  {
   "cell_type": "code",
   "execution_count": 17,
   "metadata": {},
   "outputs": [
    {
     "name": "stdout",
     "output_type": "stream",
     "text": [
      "동문서답 장인\n"
     ]
    },
    {
     "data": {
      "text/plain": [
       "'키키 응  ! 그렇게 나 그거 엄청 좋은거야  .**이도 이거 써보고 에센스 사  !'"
      ]
     },
     "execution_count": 17,
     "metadata": {},
     "output_type": "execute_result"
    }
   ],
   "source": [
    "prediction.predict(\"동문서답 장인\")"
   ]
  },
  {
   "cell_type": "code",
   "execution_count": 19,
   "metadata": {},
   "outputs": [
    {
     "name": "stdout",
     "output_type": "stream",
     "text": [
      "강민철이란?\n"
     ]
    },
    {
     "data": {
      "text/plain": [
       "'넌 그럼 명절 때 친가쪽에 있는 게 더 편하겠다'"
      ]
     },
     "execution_count": 19,
     "metadata": {},
     "output_type": "execute_result"
    }
   ],
   "source": [
    "prediction.predict(\"강민철이란?\")"
   ]
  },
  {
   "cell_type": "code",
   "execution_count": 20,
   "metadata": {},
   "outputs": [
    {
     "name": "stdout",
     "output_type": "stream",
     "text": [
      "넌 왜 바보야?\n"
     ]
    },
    {
     "data": {
      "text/plain": [
       "'키키 난 오늘 쿠팡에서 휴대폰 케이스 삼'"
      ]
     },
     "execution_count": 20,
     "metadata": {},
     "output_type": "execute_result"
    }
   ],
   "source": [
    "prediction.predict(\"넌 왜 바보야?\")"
   ]
  },
  {
   "cell_type": "code",
   "execution_count": 21,
   "metadata": {},
   "outputs": [
    {
     "name": "stdout",
     "output_type": "stream",
     "text": [
      "안궁금해;;\n"
     ]
    },
    {
     "data": {
      "text/plain": [
       "'내 친구들은 여자친구가 없잖아 그래서 어쩔 수 있어요  .'"
      ]
     },
     "execution_count": 21,
     "metadata": {},
     "output_type": "execute_result"
    }
   ],
   "source": [
    "prediction.predict(\"안궁금해;;\")"
   ]
  },
  {
   "cell_type": "code",
   "execution_count": 24,
   "metadata": {},
   "outputs": [
    {
     "name": "stdout",
     "output_type": "stream",
     "text": [
      "키키는 윤승현이고?\n"
     ]
    },
    {
     "data": {
      "text/plain": [
       "'와 진짜 군대가 점점 이상해져가네 키키'"
      ]
     },
     "execution_count": 24,
     "metadata": {},
     "output_type": "execute_result"
    }
   ],
   "source": [
    "prediction.predict(\"키키는 윤승현이고?\")"
   ]
  },
  {
   "cell_type": "code",
   "execution_count": 25,
   "metadata": {},
   "outputs": [
    {
     "name": "stdout",
     "output_type": "stream",
     "text": [
      "점심 뭐먹지\n"
     ]
    },
    {
     "data": {
      "text/plain": [
       "'색다른걸 드셔보세요  .'"
      ]
     },
     "execution_count": 25,
     "metadata": {},
     "output_type": "execute_result"
    }
   ],
   "source": [
    "prediction.predict(\"점심 뭐먹지\")"
   ]
  },
  {
   "cell_type": "code",
   "execution_count": 26,
   "metadata": {},
   "outputs": [
    {
     "name": "stdout",
     "output_type": "stream",
     "text": [
      "왜태어났니?\n"
     ]
    },
    {
     "data": {
      "text/plain": [
       "'키키 근데 그렇게 되더라도 집 위치 말 안 하는 게 좋아우리 집에 다 올 듯 ㅠ 저 쉬고 갈게용~'"
      ]
     },
     "execution_count": 26,
     "metadata": {},
     "output_type": "execute_result"
    }
   ],
   "source": [
    "prediction.predict(\"왜태어났니?\")"
   ]
  },
  {
   "cell_type": "code",
   "execution_count": 27,
   "metadata": {},
   "outputs": [
    {
     "name": "stdout",
     "output_type": "stream",
     "text": [
      "넌 누구가 만들었어?\n"
     ]
    },
    {
     "data": {
      "text/plain": [
       "'와 그럼 난 옷 걱정 안 하는 겨울도 좋긴 해 키키'"
      ]
     },
     "execution_count": 27,
     "metadata": {},
     "output_type": "execute_result"
    }
   ],
   "source": [
    "prediction.predict(\"넌 누구가 만들었어?\")"
   ]
  },
  {
   "cell_type": "code",
   "execution_count": 28,
   "metadata": {},
   "outputs": [
    {
     "name": "stdout",
     "output_type": "stream",
     "text": [
      "넌 자아가 몇개야?\n"
     ]
    },
    {
     "data": {
      "text/plain": [
       "'와 진짜 돌았다왜 그러는 거지 뇌가 어케 된 걸까'"
      ]
     },
     "execution_count": 28,
     "metadata": {},
     "output_type": "execute_result"
    }
   ],
   "source": [
    "prediction.predict(\"넌 자아가 몇개야?\")"
   ]
  },
  {
   "cell_type": "code",
   "execution_count": 33,
   "metadata": {},
   "outputs": [
    {
     "name": "stdout",
     "output_type": "stream",
     "text": [
      "나 여친이 생길 수 있을까?\n"
     ]
    },
    {
     "data": {
      "text/plain": [
       "'나는 그럼 두 번 타면 택시값이야'"
      ]
     },
     "execution_count": 33,
     "metadata": {},
     "output_type": "execute_result"
    }
   ],
   "source": [
    "prediction.predict(\"나 여친이 생길 수 있을까?\") "
   ]
  },
  {
   "cell_type": "code",
   "execution_count": 34,
   "metadata": {},
   "outputs": [
    {
     "name": "stdout",
     "output_type": "stream",
     "text": [
      "인공지능 코지욱\n"
     ]
    },
    {
     "data": {
      "text/plain": [
       "'근데 그게 쉽지않을 것 같아'"
      ]
     },
     "execution_count": 34,
     "metadata": {},
     "output_type": "execute_result"
    }
   ],
   "source": [
    "prediction.predict(\"인공지능 코지욱\")"
   ]
  },
  {
   "cell_type": "code",
   "execution_count": 35,
   "metadata": {},
   "outputs": [
    {
     "name": "stdout",
     "output_type": "stream",
     "text": [
      "인공지능은 똥마려우면 어떻게 해요?\n"
     ]
    },
    {
     "data": {
      "text/plain": [
       "'헐 그거 건조기 되는 건 맞지  ?'"
      ]
     },
     "execution_count": 35,
     "metadata": {},
     "output_type": "execute_result"
    }
   ],
   "source": [
    "prediction.predict(\"인공지능은 똥마려우면 어떻게 해요?\")"
   ]
  },
  {
   "cell_type": "code",
   "execution_count": 36,
   "metadata": {},
   "outputs": [
    {
     "name": "stdout",
     "output_type": "stream",
     "text": [
      "당신은 입니까 사람? 아닙니까 렉걸렸니습다\n"
     ]
    },
    {
     "data": {
      "text/plain": [
       "'근데 그렇게 안 해보던 사람이 하려면 힘들지 않아  ?'"
      ]
     },
     "execution_count": 36,
     "metadata": {},
     "output_type": "execute_result"
    }
   ],
   "source": [
    "prediction.predict(\"당신은 입니까 사람? 아닙니까 렉걸렸니습다\")"
   ]
  },
  {
   "cell_type": "code",
   "execution_count": 37,
   "metadata": {},
   "outputs": [
    {
     "name": "stdout",
     "output_type": "stream",
     "text": [
      "사랑해\n"
     ]
    },
    {
     "data": {
      "text/plain": [
       "'또 다른 사랑이 찾아올 거예요  .'"
      ]
     },
     "execution_count": 37,
     "metadata": {},
     "output_type": "execute_result"
    }
   ],
   "source": [
    "prediction.predict(\"사랑해\")"
   ]
  },
  {
   "cell_type": "code",
   "execution_count": 41,
   "metadata": {},
   "outputs": [
    {
     "name": "stdout",
     "output_type": "stream",
     "text": [
      "나랑 사귀자\n"
     ]
    },
    {
     "data": {
      "text/plain": [
       "'이번에 나는 요새 와인 다들 많이 먹더라구'"
      ]
     },
     "execution_count": 41,
     "metadata": {},
     "output_type": "execute_result"
    }
   ],
   "source": [
    "prediction.predict(\"나랑 사귀자\")"
   ]
  },
  {
   "cell_type": "code",
   "execution_count": 43,
   "metadata": {},
   "outputs": [
    {
     "name": "stdout",
     "output_type": "stream",
     "text": [
      "조정식이 누구냐고 이 인공지능 바보야?\n"
     ]
    },
    {
     "data": {
      "text/plain": [
       "'키키 난 같이 이후로 본 거 없어 요즘 뭐 나와  ?'"
      ]
     },
     "execution_count": 43,
     "metadata": {},
     "output_type": "execute_result"
    }
   ],
   "source": [
    "prediction.predict(\"조정식이 누구냐고 이 인공지능 바보야?\")"
   ]
  },
  {
   "cell_type": "code",
   "execution_count": 44,
   "metadata": {},
   "outputs": [
    {
     "name": "stdout",
     "output_type": "stream",
     "text": [
      "이 멍청아 배기범이 누구야?\n"
     ]
    },
    {
     "data": {
      "text/plain": [
       "'근데 그게 쉽지않을 것 같아'"
      ]
     },
     "execution_count": 44,
     "metadata": {},
     "output_type": "execute_result"
    }
   ],
   "source": [
    "prediction.predict(\"이 멍청아 배기범이 누구야?\")"
   ]
  },
  {
   "cell_type": "code",
   "execution_count": 47,
   "metadata": {},
   "outputs": [
    {
     "name": "stdout",
     "output_type": "stream",
     "text": [
      "윤승현을 어떻게 생각하냐고\n"
     ]
    },
    {
     "data": {
      "text/plain": [
       "'키키 근데 그렇게 눈 오면 뭐가 있어  ?'"
      ]
     },
     "execution_count": 47,
     "metadata": {},
     "output_type": "execute_result"
    }
   ],
   "source": [
    "prediction.predict(\"윤승현을 어떻게 생각하냐고\")"
   ]
  },
  {
   "cell_type": "code",
   "execution_count": 48,
   "metadata": {},
   "outputs": [
    {
     "name": "stdout",
     "output_type": "stream",
     "text": [
      "애플 시나몬 와플은 아메리카노랑 잘 어울려, 아이스티랑 잘 어울려?\n"
     ]
    },
    {
     "data": {
      "text/plain": [
       "'키키 그게 너는 혼자 여행 되는 건 맞지  ?'"
      ]
     },
     "execution_count": 48,
     "metadata": {},
     "output_type": "execute_result"
    }
   ],
   "source": [
    "prediction.predict(\"애플 시나몬 와플은 아메리카노랑 잘 어울려, 아이스티랑 잘 어울려?\")"
   ]
  },
  {
   "cell_type": "code",
   "execution_count": 49,
   "metadata": {},
   "outputs": [
    {
     "name": "stdout",
     "output_type": "stream",
     "text": [
      "최한호는 어떤 사람이야?\n"
     ]
    },
    {
     "data": {
      "text/plain": [
       "'키키 그게 진짜 사랑이죠  .'"
      ]
     },
     "execution_count": 49,
     "metadata": {},
     "output_type": "execute_result"
    }
   ],
   "source": [
    "prediction.predict(\"최한호는 어떤 사람이야?\")"
   ]
  },
  {
   "cell_type": "code",
   "execution_count": null,
   "metadata": {},
   "outputs": [],
   "source": []
  }
 ],
 "metadata": {
  "kernelspec": {
   "display_name": "Python 3.9.6 ('mlenv')",
   "language": "python",
   "name": "python3"
  },
  "language_info": {
   "codemirror_mode": {
    "name": "ipython",
    "version": 3
   },
   "file_extension": ".py",
   "mimetype": "text/x-python",
   "name": "python",
   "nbconvert_exporter": "python",
   "pygments_lexer": "ipython3",
   "version": "3.9.6"
  },
  "orig_nbformat": 4,
  "vscode": {
   "interpreter": {
    "hash": "9585e0e58f3ada4c387d89b399b9d9bb88b52954ed4e2235f58d5a052e970ed6"
   }
  }
 },
 "nbformat": 4,
 "nbformat_minor": 2
}
