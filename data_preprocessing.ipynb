{
 "cells": [
  {
   "cell_type": "code",
   "execution_count": 1,
   "metadata": {},
   "outputs": [],
   "source": [
    "import os\n",
    "import pandas as pd\n",
    "import numpy as np\n",
    "import matplotlib.pyplot as plt\n",
    "from utils import load_json\n",
    "from nlp_utils import preprocess_sentence"
   ]
  },
  {
   "cell_type": "code",
   "execution_count": 26,
   "metadata": {},
   "outputs": [
    {
     "data": {
      "text/plain": [
       "47421"
      ]
     },
     "execution_count": 26,
     "metadata": {},
     "output_type": "execute_result"
    }
   ],
   "source": [
    "dataset_dir = \"./NIKL_OM_2021_v1.0/conversations\"\n",
    "\n",
    "files = os.listdir(dataset_dir)\n",
    "\n",
    "len(files)"
   ]
  },
  {
   "cell_type": "code",
   "execution_count": 31,
   "metadata": {},
   "outputs": [
    {
     "name": "stdout",
     "output_type": "stream",
     "text": [
      "['안녕하세요 ', ' 이거 해봐요>< ', '오 ㅋㅋㅋㅋㅋㅋㅋㅋㅋㅋ오 ㅋㅋㅋㅋㅋㅋㅋㅋㅋㅋ 안챙겨도 잘커요 너무 맞는데요ㅜㅜ? 자세한 내용은 더 알아가야겟지만~~ ', 'ㅋㅋㅋㅋㅋ당연하쥬ㅋㅋㅋㅋㅋ당연하쥬 누굴 챙길 여유는 저도 없는거같지만 그러나 점심 메뉴는 언제든 권한을 드릴게여 !!!! ', '목요일 점심메뉴도 생각해오세요 크크 전 닭가슴살 먹을거지만,, '] ['️️ ', '나의 직장인 멘탈 성향은  [안챙겨도 잘커요, 탕비실 선인장] 당신의 멘탈 성향은 어떠신가요? 지금 테스트해보세요! 나의 직장인 멘탈 성향은  [안챙겨도 잘커요, 탕비실 선인장] 당신의 멘탈 성향은 어떠신가요? 지금 테스트해보세요!  아앗... ', 'ㅋㅌㅋㅋㅋㅋㅋㅌㅋㅋㅋㅋ 아녜여 챙겨주세요 ', '그렇게 큰 권한을 주신다구요??그렇게 큰 권한을 주신다구요?? name1님 완전 대인배 ', '흠 그럼 저도흠 그럼 저도 한번 도시락을 싸올까요 ']\n",
      "821754 821754\n"
     ]
    }
   ],
   "source": [
    "total_questions = []\n",
    "total_answers = []\n",
    "\n",
    "#  TEST for 5 files\n",
    "for filename in files:\n",
    "    target =os.path.join(dataset_dir, filename)\n",
    "    loaded_file = load_json(target)\n",
    "    # print(loaded_file[\"document\"][0][\"utterance\"][0])\n",
    "\n",
    "    talks = loaded_file[\"document\"]\n",
    "    for talk in talks:\n",
    "        talking_data = talk[\"utterance\"]\n",
    "        current_talker = talking_data[0][\"speaker_id\"]\n",
    "\n",
    "        questions = []\n",
    "        answers = []\n",
    "\n",
    "        # 사용자가 입력한 문장이 한 발화안이 아니라 여러 줄에 걸쳐서 나타날 수도 있기에 타겟을 만든다.\n",
    "        sen = \"\"\n",
    "\n",
    "        for data in talking_data:\n",
    "            user_input = data[\"form\"]\n",
    "            if data[\"speaker_id\"] != current_talker:\n",
    "                current_talker = data[\"speaker_id\"]\n",
    "                if len(questions) != len(answers):\n",
    "                    answers.append(sen)\n",
    "                else:\n",
    "                    questions.append(sen)\n",
    "\n",
    "                sen = user_input\n",
    "            sen = sen+ user_input + \" \"\n",
    "    \n",
    "        if len(questions) != len(answers):\n",
    "            total_questions.extend(questions[:-1])\n",
    "        else:\n",
    "            total_questions.extend(questions)\n",
    "        \n",
    "        total_answers.extend(answers)\n",
    "\n",
    "print(total_questions[:5], total_answers[:5]) \n",
    "print(len(total_questions), len(total_answers))\n"
   ]
  },
  {
   "cell_type": "code",
   "execution_count": 5,
   "metadata": {},
   "outputs": [
    {
     "data": {
      "text/html": [
       "<div>\n",
       "<style scoped>\n",
       "    .dataframe tbody tr th:only-of-type {\n",
       "        vertical-align: middle;\n",
       "    }\n",
       "\n",
       "    .dataframe tbody tr th {\n",
       "        vertical-align: top;\n",
       "    }\n",
       "\n",
       "    .dataframe thead th {\n",
       "        text-align: right;\n",
       "    }\n",
       "</style>\n",
       "<table border=\"1\" class=\"dataframe\">\n",
       "  <thead>\n",
       "    <tr style=\"text-align: right;\">\n",
       "      <th></th>\n",
       "      <th>Q</th>\n",
       "      <th>A</th>\n",
       "      <th>label</th>\n",
       "    </tr>\n",
       "  </thead>\n",
       "  <tbody>\n",
       "    <tr>\n",
       "      <th>0</th>\n",
       "      <td>12시 땡!</td>\n",
       "      <td>하루가 또 가네요.</td>\n",
       "      <td>0</td>\n",
       "    </tr>\n",
       "    <tr>\n",
       "      <th>1</th>\n",
       "      <td>1지망 학교 떨어졌어</td>\n",
       "      <td>위로해 드립니다.</td>\n",
       "      <td>0</td>\n",
       "    </tr>\n",
       "    <tr>\n",
       "      <th>2</th>\n",
       "      <td>3박4일 놀러가고 싶다</td>\n",
       "      <td>여행은 언제나 좋죠.</td>\n",
       "      <td>0</td>\n",
       "    </tr>\n",
       "    <tr>\n",
       "      <th>3</th>\n",
       "      <td>3박4일 정도 놀러가고 싶다</td>\n",
       "      <td>여행은 언제나 좋죠.</td>\n",
       "      <td>0</td>\n",
       "    </tr>\n",
       "    <tr>\n",
       "      <th>4</th>\n",
       "      <td>PPL 심하네</td>\n",
       "      <td>눈살이 찌푸려지죠.</td>\n",
       "      <td>0</td>\n",
       "    </tr>\n",
       "  </tbody>\n",
       "</table>\n",
       "</div>"
      ],
      "text/plain": [
       "                 Q            A  label\n",
       "0           12시 땡!   하루가 또 가네요.      0\n",
       "1      1지망 학교 떨어졌어    위로해 드립니다.      0\n",
       "2     3박4일 놀러가고 싶다  여행은 언제나 좋죠.      0\n",
       "3  3박4일 정도 놀러가고 싶다  여행은 언제나 좋죠.      0\n",
       "4          PPL 심하네   눈살이 찌푸려지죠.      0"
      ]
     },
     "execution_count": 5,
     "metadata": {},
     "output_type": "execute_result"
    }
   ],
   "source": [
    "train_data = pd.read_csv(\"./dataset/ChatbotData.csv\")\n",
    "train_data.head()"
   ]
  },
  {
   "cell_type": "code",
   "execution_count": 19,
   "metadata": {},
   "outputs": [
    {
     "name": "stdout",
     "output_type": "stream",
     "text": [
      "['12시 땡 !', '1지망 학교 떨어졌어', '3박4일 놀러가고 싶다', '3박4일 정도 놀러가고 싶다', 'PPL 심하네']\n",
      "['하루가 또 가네요 .', '위로해 드립니다 .', '여행은 언제나 좋죠 .', '여행은 언제나 좋죠 .', '눈살이 찌푸려지죠 .']\n"
     ]
    }
   ],
   "source": [
    "wellness_questions = []\n",
    "for sentence in train_data[\"Q\"]:\n",
    "    sentence = preprocess_sentence(sentence)\n",
    "    wellness_questions.append(sentence)\n",
    "\n",
    "wellness_answers = []\n",
    "for sentence in train_data[\"A\"]:\n",
    "    sentence = preprocess_sentence(sentence)\n",
    "    wellness_answers.append(sentence)\n",
    "\n",
    "print(wellness_questions[:5])\n",
    "print(wellness_answers[:5])"
   ]
  },
  {
   "cell_type": "code",
   "execution_count": 40,
   "metadata": {},
   "outputs": [
    {
     "name": "stdout",
     "output_type": "stream",
     "text": [
      "833577 833577\n"
     ]
    }
   ],
   "source": [
    "print(len(total_questions), len(total_answers))"
   ]
  },
  {
   "cell_type": "code",
   "execution_count": 56,
   "metadata": {},
   "outputs": [],
   "source": [
    "Q = [[t] for t in total_questions]\n",
    "A = [[t] for t in total_answers]\n",
    "\n",
    "ConcatArr = [[Q[i][0], A[i][0]] for i in range(len(Q))]"
   ]
  },
  {
   "cell_type": "code",
   "execution_count": 57,
   "metadata": {},
   "outputs": [],
   "source": [
    "df = pd.DataFrame(ConcatArr, columns = [\"Q\", \"A\"])\n",
    "\n",
    "df.to_csv('final_dataset.csv', index=False, encoding=\"utf-8\")\n"
   ]
  },
  {
   "cell_type": "markdown",
   "metadata": {},
   "source": [
    "# Load Instagram Talk Data"
   ]
  },
  {
   "cell_type": "code",
   "execution_count": 7,
   "metadata": {},
   "outputs": [
    {
     "data": {
      "text/plain": [
       "4800"
      ]
     },
     "execution_count": 7,
     "metadata": {},
     "output_type": "execute_result"
    }
   ],
   "source": [
    "dataset_dir = \"./dataset/TL_03. INSTAGRAM/\"\n",
    "\n",
    "files = os.listdir(dataset_dir)\n",
    "\n",
    "len(files)"
   ]
  },
  {
   "cell_type": "code",
   "execution_count": 9,
   "metadata": {},
   "outputs": [],
   "source": [
    "from nlp_utils import preprocess_sentence\n",
    "\n",
    "def preprocess(sentence):\n",
    "    sentence = preprocess_sentence(sentence)\n",
    "    sentence = sentence.replace(\",\", \"\")\n",
    "    return sentence"
   ]
  },
  {
   "cell_type": "code",
   "execution_count": 24,
   "metadata": {},
   "outputs": [
    {
     "name": "stdout",
     "output_type": "stream",
     "text": [
      "['점심 메뉴 정하신 분', '나 아침 든든하게 먹으니 힘 난다', '점심은 사모님이 주심 후후', '**가 오늘 만들어야 함 ?', '돼지국밥으로 바꿀까'] ['누룽지 끓여 먹을까 고민', '아 나 점심 뭐 먹지', '나 점심 내장국밥 픽', '누룽지는 간식으로 먹어야징', '누룽지 맛있겠어 . . . 나두']\n",
      "28851 28851\n"
     ]
    },
    {
     "data": {
      "text/plain": [
       "'왓챠 진짜 볼 거 없음 . . .'"
      ]
     },
     "execution_count": 24,
     "metadata": {},
     "output_type": "execute_result"
    }
   ],
   "source": [
    "total_questions = []\n",
    "total_answers = []\n",
    "\n",
    "#  TEST for 5 files\n",
    "for filename in files:\n",
    "    target =os.path.join(dataset_dir, filename)\n",
    "    loaded_file = load_json(target)\n",
    "    # print(loaded_file[\"document\"][0][\"utterance\"][0])\n",
    "\n",
    "    talk = loaded_file[\"info\"][0]\n",
    "    \n",
    "    talking_data = talk[\"annotations\"][\"lines\"]\n",
    "    current_talker = talking_data[0][\"speaker\"][\"id\"]\n",
    "\n",
    "    questions = []\n",
    "    answers = []\n",
    "\n",
    "    # 사용자가 입력한 문장이 한 발화안이 아니라 여러 줄에 걸쳐서 나타날 수도 있기에 타겟을 만든다.\n",
    "    sen = \"\"\n",
    "\n",
    "    for data in talking_data:\n",
    "        user_input = data[\"norm_text\"]\n",
    "        if data[\"speaker\"][\"id\"] != current_talker:\n",
    "            current_talker = data[\"speaker\"][\"id\"]\n",
    "            sen = preprocess(sen)\n",
    "            if len(questions) != len(answers):\n",
    "                answers.append(sen)\n",
    "            else:\n",
    "                questions.append(sen)\n",
    "\n",
    "            sen = user_input\n",
    "\n",
    "        else: sen = sen + user_input + \" \"\n",
    "    \n",
    "    if len(questions) != len(answers):\n",
    "        total_questions.extend(questions[:-1])\n",
    "    else:\n",
    "        total_questions.extend(questions)\n",
    "        \n",
    "    total_answers.extend(answers)\n",
    "\n",
    "print(total_questions[:5], total_answers[:5]) \n",
    "print(len(total_questions), len(total_answers))\n",
    "\n",
    "total_answers[-1]\n"
   ]
  },
  {
   "cell_type": "code",
   "execution_count": 25,
   "metadata": {},
   "outputs": [
    {
     "data": {
      "text/plain": [
       "(40674, 40674, '도피성 결혼은 하지 않길 바라요 .')"
      ]
     },
     "execution_count": 25,
     "metadata": {},
     "output_type": "execute_result"
    }
   ],
   "source": [
    "total_answers.extend(wellness_answers)\n",
    "total_questions.extend(wellness_questions)\n",
    "\n",
    "len(total_answers), len(total_questions), total_answers[-1]"
   ]
  },
  {
   "cell_type": "code",
   "execution_count": 32,
   "metadata": {},
   "outputs": [],
   "source": [
    "Q = [[t] for t in total_questions]\n",
    "A = [[t] for t in total_answers]"
   ]
  },
  {
   "cell_type": "code",
   "execution_count": 33,
   "metadata": {},
   "outputs": [
    {
     "name": "stdout",
     "output_type": "stream",
     "text": [
      "['']\n"
     ]
    }
   ],
   "source": [
    "# 8430 번째 아이템 NAN\n",
    "print(Q[8430])\n",
    "Q[:8430].extend(Q[8431:])\n",
    "A[:8430].extend(A[8431:])\n",
    "\n",
    "ConcatArr = [[Q[i][0], A[i][0]] for i in range(len(Q))]"
   ]
  },
  {
   "cell_type": "code",
   "execution_count": 34,
   "metadata": {},
   "outputs": [],
   "source": [
    "df = pd.DataFrame(ConcatArr, columns = [\"Q\", \"A\"])\n",
    "\n",
    "df.to_csv('small_dataset.csv', index=False, encoding=\"utf-8\")\n"
   ]
  },
  {
   "cell_type": "code",
   "execution_count": null,
   "metadata": {},
   "outputs": [],
   "source": []
  }
 ],
 "metadata": {
  "kernelspec": {
   "display_name": "Python 3.9.6 ('mlenv')",
   "language": "python",
   "name": "python3"
  },
  "language_info": {
   "codemirror_mode": {
    "name": "ipython",
    "version": 3
   },
   "file_extension": ".py",
   "mimetype": "text/x-python",
   "name": "python",
   "nbconvert_exporter": "python",
   "pygments_lexer": "ipython3",
   "version": "3.9.6"
  },
  "orig_nbformat": 4,
  "vscode": {
   "interpreter": {
    "hash": "9585e0e58f3ada4c387d89b399b9d9bb88b52954ed4e2235f58d5a052e970ed6"
   }
  }
 },
 "nbformat": 4,
 "nbformat_minor": 2
}
